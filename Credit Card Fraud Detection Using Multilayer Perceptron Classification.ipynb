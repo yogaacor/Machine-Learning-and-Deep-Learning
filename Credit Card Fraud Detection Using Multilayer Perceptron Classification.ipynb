{
  "cells": [
    {
      "cell_type": "markdown",
      "metadata": {
        "id": "Avr_BuLrV23M"
      },
      "source": [
        "# Assignment Chapter 2 - DEEP LEARNING [Case #4]\n",
        "Startup Campus, Indonesia - `Artificial Intelligence (AI)` (Batch 7)\n",
        "* Task: **CLASSIFICATION**\n",
        "* DL Framework: **PyTorch**\n",
        "* Dataset: Credit Card Fraud 2023\n",
        "* Libraries: Pandas/cuDF, Scikit-learn/cuML, Numpy/cuPy\n",
        "* Objective: Classify credit fraud transactions using Multilayer Perceptron\n",
        "\n",
        "`PERSYARATAN` Semua modul (termasuk versi yang sesuai) sudah di-install dengan benar.\n",
        "<br>`CARA PENGERJAAN` Lengkapi baris kode yang ditandai dengan **#TODO**.\n",
        "<br>`TARGET PORTFOLIO` Peserta mampu mengklasifikasi transaksi fraud menggunakan *Multilayer Perceptron*"
      ]
    },
    {
      "cell_type": "markdown",
      "metadata": {
        "id": "o5YZC_D_ZCEy"
      },
      "source": [
        "### Import Libraries"
      ]
    },
    {
      "cell_type": "code",
      "execution_count": null,
      "metadata": {
        "colab": {
          "base_uri": "https://localhost:8080/"
        },
        "id": "dvStCFqxZlrS",
        "outputId": "993f0797-bf59-4694-9c98-e75c9d5a1b30"
      },
      "outputs": [
        {
          "output_type": "stream",
          "name": "stdout",
          "text": [
            "Cloning into 'rapidsai-csp-utils'...\n",
            "remote: Enumerating objects: 530, done.\u001b[K\n",
            "remote: Counting objects: 100% (261/261), done.\u001b[K\n",
            "remote: Compressing objects: 100% (167/167), done.\u001b[K\n",
            "remote: Total 530 (delta 171), reused 129 (delta 94), pack-reused 269 (from 1)\u001b[K\n",
            "Receiving objects: 100% (530/530), 170.56 KiB | 998.00 KiB/s, done.\n",
            "Resolving deltas: 100% (273/273), done.\n",
            "Collecting pynvml\n",
            "  Downloading pynvml-11.5.3-py3-none-any.whl.metadata (8.8 kB)\n",
            "Downloading pynvml-11.5.3-py3-none-any.whl (53 kB)\n",
            "   ━━━━━━━━━━━━━━━━━━━━━━━━━━━━━━━━━━━━━━━━ 53.1/53.1 kB 3.3 MB/s eta 0:00:00\n",
            "Installing collected packages: pynvml\n",
            "Successfully installed pynvml-11.5.3\n",
            "Installing RAPIDS remaining 24.6.* libraries\n",
            "Looking in indexes: https://pypi.org/simple, https://pypi.nvidia.com\n",
            "Collecting cudf-cu12==24.6.*\n",
            "  Downloading https://pypi.nvidia.com/cudf-cu12/cudf_cu12-24.6.1-cp310-cp310-manylinux_2_28_x86_64.whl (478.0 MB)\n",
            "     ━━━━━━━━━━━━━━━━━━━━━━━━━━━━━━━━━━━━━━━━ 478.0/478.0 MB 3.0 MB/s eta 0:00:00\n",
            "Collecting cuml-cu12==24.6.*\n",
            "  Downloading https://pypi.nvidia.com/cuml-cu12/cuml_cu12-24.6.1-cp310-cp310-manylinux_2_28_x86_64.whl (1207.9 MB)\n",
            "     ━━━━━━━━━━━━━━━━━━━━━━━━━━━━━━━━━━━━━━━━ 1.2/1.2 GB 1.4 MB/s eta 0:00:00\n",
            "Collecting cugraph-cu12==24.6.*\n",
            "  Downloading https://pypi.nvidia.com/cugraph-cu12/cugraph_cu12-24.6.1-cp310-cp310-manylinux_2_28_x86_64.whl (1307.7 MB)\n",
            "     ━━━━━━━━━━━━━━━━━━━━━━━━━━━━━━━━━━━━━━━━ 1.3/1.3 GB 1.2 MB/s eta 0:00:00\n",
            "Collecting cuspatial-cu12==24.6.*\n",
            "  Downloading https://pypi.nvidia.com/cuspatial-cu12/cuspatial_cu12-24.6.0-cp310-cp310-manylinux_2_28_x86_64.whl (141.4 MB)\n",
            "     ━━━━━━━━━━━━━━━━━━━━━━━━━━━━━━━━━━━━━━━━ 141.4/141.4 MB 7.0 MB/s eta 0:00:00\n",
            "Collecting cuproj-cu12==24.6.*\n",
            "  Downloading https://pypi.nvidia.com/cuproj-cu12/cuproj_cu12-24.6.0-cp310-cp310-manylinux_2_24_x86_64.manylinux_2_28_x86_64.whl (895 kB)\n",
            "     ━━━━━━━━━━━━━━━━━━━━━━━━━━━━━━━━━━━━━━━━ 895.7/895.7 kB 48.0 MB/s eta 0:00:00\n",
            "Collecting cuxfilter-cu12==24.6.*\n",
            "  Downloading https://pypi.nvidia.com/cuxfilter-cu12/cuxfilter_cu12-24.6.0-py3-none-any.whl (83 kB)\n",
            "     ━━━━━━━━━━━━━━━━━━━━━━━━━━━━━━━━━━━━━━━━ 83.5/83.5 kB 7.9 MB/s eta 0:00:00\n",
            "Collecting cucim-cu12==24.6.*\n",
            "  Downloading https://pypi.nvidia.com/cucim-cu12/cucim_cu12-24.6.0-cp310-cp310-manylinux_2_28_x86_64.whl (5.7 MB)\n",
            "     ━━━━━━━━━━━━━━━━━━━━━━━━━━━━━━━━━━━━━━━━ 5.7/5.7 MB 95.1 MB/s eta 0:00:00\n",
            "Collecting pylibraft-cu12==24.6.*\n",
            "  Downloading https://pypi.nvidia.com/pylibraft-cu12/pylibraft_cu12-24.6.0-cp310-cp310-manylinux_2_28_x86_64.whl (833.8 MB)\n",
            "     ━━━━━━━━━━━━━━━━━━━━━━━━━━━━━━━━━━━━━━━━ 833.8/833.8 MB 1.4 MB/s eta 0:00:00\n",
            "Collecting raft-dask-cu12==24.6.*\n",
            "  Downloading https://pypi.nvidia.com/raft-dask-cu12/raft_dask_cu12-24.6.0-cp310-cp310-manylinux_2_28_x86_64.whl (186.9 MB)\n",
            "     ━━━━━━━━━━━━━━━━━━━━━━━━━━━━━━━━━━━━━━━━ 186.9/186.9 MB 7.4 MB/s eta 0:00:00\n",
            "Collecting nx-cugraph-cu12==24.6.*\n",
            "  Downloading https://pypi.nvidia.com/nx-cugraph-cu12/nx_cugraph_cu12-24.6.1-py3-none-any.whl (129 kB)\n",
            "     ━━━━━━━━━━━━━━━━━━━━━━━━━━━━━━━━━━━━━━━━ 129.8/129.8 kB 12.7 MB/s eta 0:00:00\n",
            "Requirement already satisfied: aiohttp in /usr/local/lib/python3.10/dist-packages (3.10.10)\n",
            "Requirement already satisfied: cachetools in /usr/local/lib/python3.10/dist-packages (from cudf-cu12==24.6.*) (5.5.0)\n",
            "Requirement already satisfied: cuda-python<13.0a0,>=12.0 in /usr/local/lib/python3.10/dist-packages (from cudf-cu12==24.6.*) (12.2.1)\n",
            "Requirement already satisfied: cupy-cuda12x>=12.0.0 in /usr/local/lib/python3.10/dist-packages (from cudf-cu12==24.6.*) (12.2.0)\n",
            "Requirement already satisfied: fsspec>=0.6.0 in /usr/local/lib/python3.10/dist-packages (from cudf-cu12==24.6.*) (2024.6.1)\n",
            "Requirement already satisfied: numba>=0.57 in /usr/local/lib/python3.10/dist-packages (from cudf-cu12==24.6.*) (0.60.0)\n",
            "Requirement already satisfied: numpy<2.0a0,>=1.23 in /usr/local/lib/python3.10/dist-packages (from cudf-cu12==24.6.*) (1.26.4)\n",
            "Requirement already satisfied: nvtx>=0.2.1 in /usr/local/lib/python3.10/dist-packages (from cudf-cu12==24.6.*) (0.2.10)\n",
            "Requirement already satisfied: packaging in /usr/local/lib/python3.10/dist-packages (from cudf-cu12==24.6.*) (24.1)\n",
            "Requirement already satisfied: pandas<2.2.3dev0,>=2.0 in /usr/local/lib/python3.10/dist-packages (from cudf-cu12==24.6.*) (2.2.2)\n",
            "Requirement already satisfied: pynvjitlink-cu12 in /usr/local/lib/python3.10/dist-packages (from cudf-cu12==24.6.*) (0.3.0)\n",
            "Requirement already satisfied: pyarrow<16.2.0a0,>=16.1.0 in /usr/local/lib/python3.10/dist-packages (from cudf-cu12==24.6.*) (16.1.0)\n",
            "Requirement already satisfied: rich in /usr/local/lib/python3.10/dist-packages (from cudf-cu12==24.6.*) (13.9.2)\n",
            "Collecting rmm-cu12==24.6.* (from cudf-cu12==24.6.*)\n",
            "  Downloading https://pypi.nvidia.com/rmm-cu12/rmm_cu12-24.6.0-cp310-cp310-manylinux_2_24_x86_64.manylinux_2_28_x86_64.whl (1.7 MB)\n",
            "     ━━━━━━━━━━━━━━━━━━━━━━━━━━━━━━━━━━━━━━━━ 1.7/1.7 MB 74.9 MB/s eta 0:00:00\n",
            "Requirement already satisfied: typing_extensions>=4.0.0 in /usr/local/lib/python3.10/dist-packages (from cudf-cu12==24.6.*) (4.12.2)\n",
            "Collecting dask-cuda==24.6.* (from cuml-cu12==24.6.*)\n",
            "  Downloading https://pypi.nvidia.com/dask-cuda/dask_cuda-24.6.0-py3-none-any.whl (127 kB)\n",
            "     ━━━━━━━━━━━━━━━━━━━━━━━━━━━━━━━━━━━━━━━━ 127.4/127.4 kB 11.3 MB/s eta 0:00:00\n",
            "Collecting dask-cudf-cu12==24.6.* (from cuml-cu12==24.6.*)\n",
            "  Downloading https://pypi.nvidia.com/dask-cudf-cu12/dask_cudf_cu12-24.6.1-py3-none-any.whl (51 kB)\n",
            "     ━━━━━━━━━━━━━━━━━━━━━━━━━━━━━━━━━━━━━━━━ 51.8/51.8 kB 4.5 MB/s eta 0:00:00\n",
            "Requirement already satisfied: joblib>=0.11 in /usr/local/lib/python3.10/dist-packages (from cuml-cu12==24.6.*) (1.4.2)\n",
            "Collecting rapids-dask-dependency==24.6.* (from cuml-cu12==24.6.*)\n",
            "  Downloading https://pypi.nvidia.com/rapids-dask-dependency/rapids_dask_dependency-24.6.0-py3-none-any.whl (15 kB)\n",
            "Requirement already satisfied: scipy>=1.8.0 in /usr/local/lib/python3.10/dist-packages (from cuml-cu12==24.6.*) (1.13.1)\n",
            "Collecting treelite==4.1.2 (from cuml-cu12==24.6.*)\n",
            "  Downloading treelite-4.1.2-py3-none-manylinux2014_x86_64.whl.metadata (1.5 kB)\n",
            "Collecting pylibcugraph-cu12==24.6.* (from cugraph-cu12==24.6.*)\n",
            "  Downloading https://pypi.nvidia.com/pylibcugraph-cu12/pylibcugraph_cu12-24.6.1-cp310-cp310-manylinux_2_28_x86_64.whl (1308.7 MB)\n",
            "     ━━━━━━━━━━━━━━━━━━━━━━━━━━━━━━━━━━━━━━━━ 1.3/1.3 GB 1.6 MB/s eta 0:00:00\n",
            "Collecting ucx-py-cu12==0.38.* (from cugraph-cu12==24.6.*)\n",
            "  Downloading https://pypi.nvidia.com/ucx-py-cu12/ucx_py_cu12-0.38.0-cp310-cp310-manylinux_2_17_x86_64.manylinux2014_x86_64.manylinux_2_28_x86_64.whl (2.1 MB)\n",
            "     ━━━━━━━━━━━━━━━━━━━━━━━━━━━━━━━━━━━━━━━━ 2.1/2.1 MB 77.1 MB/s eta 0:00:00\n",
            "Requirement already satisfied: geopandas>=0.11.0 in /usr/local/lib/python3.10/dist-packages (from cuspatial-cu12==24.6.*) (1.0.1)\n",
            "Requirement already satisfied: bokeh>=3.1 in /usr/local/lib/python3.10/dist-packages (from cuxfilter-cu12==24.6.*) (3.4.3)\n",
            "Collecting datashader>=0.15 (from cuxfilter-cu12==24.6.*)\n",
            "  Downloading datashader-0.16.3-py2.py3-none-any.whl.metadata (12 kB)\n",
            "Requirement already satisfied: holoviews>=1.16.0 in /usr/local/lib/python3.10/dist-packages (from cuxfilter-cu12==24.6.*) (1.19.1)\n",
            "Collecting jupyter-server-proxy (from cuxfilter-cu12==24.6.*)\n",
            "  Downloading jupyter_server_proxy-4.4.0-py3-none-any.whl.metadata (8.7 kB)\n",
            "Requirement already satisfied: panel>=1.0 in /usr/local/lib/python3.10/dist-packages (from cuxfilter-cu12==24.6.*) (1.4.5)\n",
            "Requirement already satisfied: click in /usr/local/lib/python3.10/dist-packages (from cucim-cu12==24.6.*) (8.1.7)\n",
            "Requirement already satisfied: lazy-loader>=0.1 in /usr/local/lib/python3.10/dist-packages (from cucim-cu12==24.6.*) (0.4)\n",
            "Collecting scikit-image<0.24.0a0,>=0.19.0 (from cucim-cu12==24.6.*)\n",
            "  Downloading scikit_image-0.23.2-cp310-cp310-manylinux_2_17_x86_64.manylinux2014_x86_64.whl.metadata (14 kB)\n",
            "Collecting distributed-ucxx-cu12==0.38.* (from raft-dask-cu12==24.6.*)\n",
            "  Downloading https://pypi.nvidia.com/distributed-ucxx-cu12/distributed_ucxx_cu12-0.38.0-py3-none-any.whl (24 kB)\n",
            "Requirement already satisfied: networkx>=3.0 in /usr/local/lib/python3.10/dist-packages (from nx-cugraph-cu12==24.6.*) (3.4.1)\n",
            "Collecting pynvml<11.5,>=11.0.0 (from dask-cuda==24.6.*->cuml-cu12==24.6.*)\n",
            "  Downloading pynvml-11.4.1-py3-none-any.whl.metadata (7.7 kB)\n",
            "Collecting zict>=2.0.0 (from dask-cuda==24.6.*->cuml-cu12==24.6.*)\n",
            "  Downloading zict-3.0.0-py2.py3-none-any.whl.metadata (899 bytes)\n",
            "Collecting ucxx-cu12==0.38.* (from distributed-ucxx-cu12==0.38.*->raft-dask-cu12==24.6.*)\n",
            "  Downloading https://pypi.nvidia.com/ucxx-cu12/ucxx_cu12-0.38.0-cp310-cp310-manylinux_2_28_x86_64.whl (5.5 MB)\n",
            "     ━━━━━━━━━━━━━━━━━━━━━━━━━━━━━━━━━━━━━━━━ 5.5/5.5 MB 82.9 MB/s eta 0:00:00\n",
            "Collecting dask==2024.5.1 (from rapids-dask-dependency==24.6.*->cuml-cu12==24.6.*)\n",
            "  Downloading dask-2024.5.1-py3-none-any.whl.metadata (3.8 kB)\n",
            "Collecting distributed==2024.5.1 (from rapids-dask-dependency==24.6.*->cuml-cu12==24.6.*)\n",
            "  Downloading distributed-2024.5.1-py3-none-any.whl.metadata (3.4 kB)\n",
            "Collecting dask-expr (from rapids-dask-dependency==24.6.*->cuml-cu12==24.6.*)\n",
            "  Downloading dask_expr-1.1.16-py3-none-any.whl.metadata (2.5 kB)\n",
            "Collecting libucx-cu12<1.16,>=1.15.0 (from ucx-py-cu12==0.38.*->cugraph-cu12==24.6.*)\n",
            "  Downloading libucx_cu12-1.15.0.post1-py3-none-manylinux_2_28_x86_64.whl.metadata (2.9 kB)\n",
            "Requirement already satisfied: cloudpickle>=1.5.0 in /usr/local/lib/python3.10/dist-packages (from dask==2024.5.1->rapids-dask-dependency==24.6.*->cuml-cu12==24.6.*) (3.1.0)\n",
            "Requirement already satisfied: partd>=1.2.0 in /usr/local/lib/python3.10/dist-packages (from dask==2024.5.1->rapids-dask-dependency==24.6.*->cuml-cu12==24.6.*) (1.4.2)\n",
            "Requirement already satisfied: pyyaml>=5.3.1 in /usr/local/lib/python3.10/dist-packages (from dask==2024.5.1->rapids-dask-dependency==24.6.*->cuml-cu12==24.6.*) (6.0.2)\n",
            "Requirement already satisfied: toolz>=0.10.0 in /usr/local/lib/python3.10/dist-packages (from dask==2024.5.1->rapids-dask-dependency==24.6.*->cuml-cu12==24.6.*) (0.12.1)\n",
            "Requirement already satisfied: importlib-metadata>=4.13.0 in /usr/local/lib/python3.10/dist-packages (from dask==2024.5.1->rapids-dask-dependency==24.6.*->cuml-cu12==24.6.*) (8.5.0)\n",
            "Requirement already satisfied: jinja2>=2.10.3 in /usr/local/lib/python3.10/dist-packages (from distributed==2024.5.1->rapids-dask-dependency==24.6.*->cuml-cu12==24.6.*) (3.1.4)\n",
            "Requirement already satisfied: locket>=1.0.0 in /usr/local/lib/python3.10/dist-packages (from distributed==2024.5.1->rapids-dask-dependency==24.6.*->cuml-cu12==24.6.*) (1.0.0)\n",
            "Requirement already satisfied: msgpack>=1.0.0 in /usr/local/lib/python3.10/dist-packages (from distributed==2024.5.1->rapids-dask-dependency==24.6.*->cuml-cu12==24.6.*) (1.1.0)\n",
            "Requirement already satisfied: psutil>=5.7.2 in /usr/local/lib/python3.10/dist-packages (from distributed==2024.5.1->rapids-dask-dependency==24.6.*->cuml-cu12==24.6.*) (5.9.5)\n",
            "Collecting sortedcontainers>=2.0.5 (from distributed==2024.5.1->rapids-dask-dependency==24.6.*->cuml-cu12==24.6.*)\n",
            "  Downloading sortedcontainers-2.4.0-py2.py3-none-any.whl.metadata (10 kB)\n",
            "Collecting tblib>=1.6.0 (from distributed==2024.5.1->rapids-dask-dependency==24.6.*->cuml-cu12==24.6.*)\n",
            "  Downloading tblib-3.0.0-py3-none-any.whl.metadata (25 kB)\n",
            "Requirement already satisfied: tornado>=6.0.4 in /usr/local/lib/python3.10/dist-packages (from distributed==2024.5.1->rapids-dask-dependency==24.6.*->cuml-cu12==24.6.*) (6.3.3)\n",
            "Requirement already satisfied: urllib3>=1.24.3 in /usr/local/lib/python3.10/dist-packages (from distributed==2024.5.1->rapids-dask-dependency==24.6.*->cuml-cu12==24.6.*) (2.2.3)\n",
            "Requirement already satisfied: aiohappyeyeballs>=2.3.0 in /usr/local/lib/python3.10/dist-packages (from aiohttp) (2.4.3)\n",
            "Requirement already satisfied: aiosignal>=1.1.2 in /usr/local/lib/python3.10/dist-packages (from aiohttp) (1.3.1)\n",
            "Requirement already satisfied: attrs>=17.3.0 in /usr/local/lib/python3.10/dist-packages (from aiohttp) (24.2.0)\n",
            "Requirement already satisfied: frozenlist>=1.1.1 in /usr/local/lib/python3.10/dist-packages (from aiohttp) (1.4.1)\n",
            "Requirement already satisfied: multidict<7.0,>=4.5 in /usr/local/lib/python3.10/dist-packages (from aiohttp) (6.1.0)\n",
            "Requirement already satisfied: yarl<2.0,>=1.12.0 in /usr/local/lib/python3.10/dist-packages (from aiohttp) (1.15.2)\n",
            "Requirement already satisfied: async-timeout<5.0,>=4.0 in /usr/local/lib/python3.10/dist-packages (from aiohttp) (4.0.3)\n",
            "Requirement already satisfied: contourpy>=1.2 in /usr/local/lib/python3.10/dist-packages (from bokeh>=3.1->cuxfilter-cu12==24.6.*) (1.3.0)\n",
            "Requirement already satisfied: pillow>=7.1.0 in /usr/local/lib/python3.10/dist-packages (from bokeh>=3.1->cuxfilter-cu12==24.6.*) (10.4.0)\n",
            "Requirement already satisfied: xyzservices>=2021.09.1 in /usr/local/lib/python3.10/dist-packages (from bokeh>=3.1->cuxfilter-cu12==24.6.*) (2024.9.0)\n",
            "Requirement already satisfied: cython in /usr/local/lib/python3.10/dist-packages (from cuda-python<13.0a0,>=12.0->cudf-cu12==24.6.*) (3.0.11)\n",
            "Requirement already satisfied: fastrlock>=0.5 in /usr/local/lib/python3.10/dist-packages (from cupy-cuda12x>=12.0.0->cudf-cu12==24.6.*) (0.8.2)\n",
            "Requirement already satisfied: colorcet in /usr/local/lib/python3.10/dist-packages (from datashader>=0.15->cuxfilter-cu12==24.6.*) (3.1.0)\n",
            "Requirement already satisfied: multipledispatch in /usr/local/lib/python3.10/dist-packages (from datashader>=0.15->cuxfilter-cu12==24.6.*) (1.0.0)\n",
            "Requirement already satisfied: param in /usr/local/lib/python3.10/dist-packages (from datashader>=0.15->cuxfilter-cu12==24.6.*) (2.1.1)\n",
            "Collecting pyct (from datashader>=0.15->cuxfilter-cu12==24.6.*)\n",
            "  Downloading pyct-0.5.0-py2.py3-none-any.whl.metadata (7.4 kB)\n",
            "Requirement already satisfied: requests in /usr/local/lib/python3.10/dist-packages (from datashader>=0.15->cuxfilter-cu12==24.6.*) (2.32.3)\n",
            "Requirement already satisfied: xarray in /usr/local/lib/python3.10/dist-packages (from datashader>=0.15->cuxfilter-cu12==24.6.*) (2024.9.0)\n",
            "Requirement already satisfied: pyogrio>=0.7.2 in /usr/local/lib/python3.10/dist-packages (from geopandas>=0.11.0->cuspatial-cu12==24.6.*) (0.10.0)\n",
            "Requirement already satisfied: pyproj>=3.3.0 in /usr/local/lib/python3.10/dist-packages (from geopandas>=0.11.0->cuspatial-cu12==24.6.*) (3.7.0)\n",
            "Requirement already satisfied: shapely>=2.0.0 in /usr/local/lib/python3.10/dist-packages (from geopandas>=0.11.0->cuspatial-cu12==24.6.*) (2.0.6)\n",
            "Requirement already satisfied: pyviz-comms>=2.1 in /usr/local/lib/python3.10/dist-packages (from holoviews>=1.16.0->cuxfilter-cu12==24.6.*) (3.0.3)\n",
            "Requirement already satisfied: llvmlite<0.44,>=0.43.0dev0 in /usr/local/lib/python3.10/dist-packages (from numba>=0.57->cudf-cu12==24.6.*) (0.43.0)\n",
            "Requirement already satisfied: python-dateutil>=2.8.2 in /usr/local/lib/python3.10/dist-packages (from pandas<2.2.3dev0,>=2.0->cudf-cu12==24.6.*) (2.8.2)\n",
            "Requirement already satisfied: pytz>=2020.1 in /usr/local/lib/python3.10/dist-packages (from pandas<2.2.3dev0,>=2.0->cudf-cu12==24.6.*) (2024.2)\n",
            "Requirement already satisfied: tzdata>=2022.7 in /usr/local/lib/python3.10/dist-packages (from pandas<2.2.3dev0,>=2.0->cudf-cu12==24.6.*) (2024.2)\n",
            "Requirement already satisfied: markdown in /usr/local/lib/python3.10/dist-packages (from panel>=1.0->cuxfilter-cu12==24.6.*) (3.7)\n",
            "Requirement already satisfied: markdown-it-py in /usr/local/lib/python3.10/dist-packages (from panel>=1.0->cuxfilter-cu12==24.6.*) (3.0.0)\n",
            "Requirement already satisfied: linkify-it-py in /usr/local/lib/python3.10/dist-packages (from panel>=1.0->cuxfilter-cu12==24.6.*) (2.0.3)\n",
            "Requirement already satisfied: mdit-py-plugins in /usr/local/lib/python3.10/dist-packages (from panel>=1.0->cuxfilter-cu12==24.6.*) (0.4.2)\n",
            "Requirement already satisfied: tqdm>=4.48.0 in /usr/local/lib/python3.10/dist-packages (from panel>=1.0->cuxfilter-cu12==24.6.*) (4.66.5)\n",
            "Requirement already satisfied: bleach in /usr/local/lib/python3.10/dist-packages (from panel>=1.0->cuxfilter-cu12==24.6.*) (6.1.0)\n",
            "Requirement already satisfied: imageio>=2.33 in /usr/local/lib/python3.10/dist-packages (from scikit-image<0.24.0a0,>=0.19.0->cucim-cu12==24.6.*) (2.35.1)\n",
            "Requirement already satisfied: tifffile>=2022.8.12 in /usr/local/lib/python3.10/dist-packages (from scikit-image<0.24.0a0,>=0.19.0->cucim-cu12==24.6.*) (2024.9.20)\n",
            "Requirement already satisfied: idna>=2.0 in /usr/local/lib/python3.10/dist-packages (from yarl<2.0,>=1.12.0->aiohttp) (3.10)\n",
            "Requirement already satisfied: propcache>=0.2.0 in /usr/local/lib/python3.10/dist-packages (from yarl<2.0,>=1.12.0->aiohttp) (0.2.0)\n",
            "Requirement already satisfied: jupyter-server>=1.24.0 in /usr/local/lib/python3.10/dist-packages (from jupyter-server-proxy->cuxfilter-cu12==24.6.*) (1.24.0)\n",
            "Collecting simpervisor>=1.0.0 (from jupyter-server-proxy->cuxfilter-cu12==24.6.*)\n",
            "  Downloading simpervisor-1.0.0-py3-none-any.whl.metadata (4.3 kB)\n",
            "Requirement already satisfied: traitlets>=5.1.0 in /usr/local/lib/python3.10/dist-packages (from jupyter-server-proxy->cuxfilter-cu12==24.6.*) (5.7.1)\n",
            "Requirement already satisfied: pygments<3.0.0,>=2.13.0 in /usr/local/lib/python3.10/dist-packages (from rich->cudf-cu12==24.6.*) (2.18.0)\n",
            "Requirement already satisfied: MarkupSafe>=2.0 in /usr/local/lib/python3.10/dist-packages (from jinja2>=2.10.3->distributed==2024.5.1->rapids-dask-dependency==24.6.*->cuml-cu12==24.6.*) (3.0.1)\n",
            "Requirement already satisfied: anyio<4,>=3.1.0 in /usr/local/lib/python3.10/dist-packages (from jupyter-server>=1.24.0->jupyter-server-proxy->cuxfilter-cu12==24.6.*) (3.7.1)\n",
            "Requirement already satisfied: argon2-cffi in /usr/local/lib/python3.10/dist-packages (from jupyter-server>=1.24.0->jupyter-server-proxy->cuxfilter-cu12==24.6.*) (23.1.0)\n",
            "Requirement already satisfied: jupyter-client>=6.1.12 in /usr/local/lib/python3.10/dist-packages (from jupyter-server>=1.24.0->jupyter-server-proxy->cuxfilter-cu12==24.6.*) (6.1.12)\n",
            "Requirement already satisfied: jupyter-core!=5.0.*,>=4.12 in /usr/local/lib/python3.10/dist-packages (from jupyter-server>=1.24.0->jupyter-server-proxy->cuxfilter-cu12==24.6.*) (5.7.2)\n",
            "Requirement already satisfied: nbconvert>=6.4.4 in /usr/local/lib/python3.10/dist-packages (from jupyter-server>=1.24.0->jupyter-server-proxy->cuxfilter-cu12==24.6.*) (6.5.4)\n",
            "Requirement already satisfied: nbformat>=5.2.0 in /usr/local/lib/python3.10/dist-packages (from jupyter-server>=1.24.0->jupyter-server-proxy->cuxfilter-cu12==24.6.*) (5.10.4)\n",
            "Requirement already satisfied: prometheus-client in /usr/local/lib/python3.10/dist-packages (from jupyter-server>=1.24.0->jupyter-server-proxy->cuxfilter-cu12==24.6.*) (0.21.0)\n",
            "Requirement already satisfied: pyzmq>=17 in /usr/local/lib/python3.10/dist-packages (from jupyter-server>=1.24.0->jupyter-server-proxy->cuxfilter-cu12==24.6.*) (24.0.1)\n",
            "Requirement already satisfied: Send2Trash in /usr/local/lib/python3.10/dist-packages (from jupyter-server>=1.24.0->jupyter-server-proxy->cuxfilter-cu12==24.6.*) (1.8.3)\n",
            "Requirement already satisfied: terminado>=0.8.3 in /usr/local/lib/python3.10/dist-packages (from jupyter-server>=1.24.0->jupyter-server-proxy->cuxfilter-cu12==24.6.*) (0.18.1)\n",
            "Requirement already satisfied: websocket-client in /usr/local/lib/python3.10/dist-packages (from jupyter-server>=1.24.0->jupyter-server-proxy->cuxfilter-cu12==24.6.*) (1.8.0)\n",
            "Requirement already satisfied: mdurl~=0.1 in /usr/local/lib/python3.10/dist-packages (from markdown-it-py->panel>=1.0->cuxfilter-cu12==24.6.*) (0.1.2)\n",
            "Requirement already satisfied: certifi in /usr/local/lib/python3.10/dist-packages (from pyogrio>=0.7.2->geopandas>=0.11.0->cuspatial-cu12==24.6.*) (2024.8.30)\n",
            "Requirement already satisfied: six>=1.5 in /usr/local/lib/python3.10/dist-packages (from python-dateutil>=2.8.2->pandas<2.2.3dev0,>=2.0->cudf-cu12==24.6.*) (1.16.0)\n",
            "Requirement already satisfied: webencodings in /usr/local/lib/python3.10/dist-packages (from bleach->panel>=1.0->cuxfilter-cu12==24.6.*) (0.5.1)\n",
            "INFO: pip is looking at multiple versions of dask-expr to determine which version is compatible with other requirements. This could take a while.\n",
            "Collecting dask-expr (from rapids-dask-dependency==24.6.*->cuml-cu12==24.6.*)\n",
            "  Downloading dask_expr-1.1.15-py3-none-any.whl.metadata (2.5 kB)\n",
            "  Downloading dask_expr-1.1.14-py3-none-any.whl.metadata (2.5 kB)\n",
            "  Downloading dask_expr-1.1.13-py3-none-any.whl.metadata (2.5 kB)\n",
            "  Downloading dask_expr-1.1.12-py3-none-any.whl.metadata (2.5 kB)\n",
            "  Downloading dask_expr-1.1.11-py3-none-any.whl.metadata (2.5 kB)\n",
            "  Downloading dask_expr-1.1.10-py3-none-any.whl.metadata (2.5 kB)\n",
            "  Downloading dask_expr-1.1.9-py3-none-any.whl.metadata (2.5 kB)\n",
            "INFO: pip is still looking at multiple versions of dask-expr to determine which version is compatible with other requirements. This could take a while.\n",
            "  Downloading dask_expr-1.1.8-py3-none-any.whl.metadata (2.5 kB)\n",
            "  Downloading dask_expr-1.1.7-py3-none-any.whl.metadata (2.5 kB)\n",
            "  Downloading dask_expr-1.1.6-py3-none-any.whl.metadata (2.5 kB)\n",
            "  Downloading dask_expr-1.1.5-py3-none-any.whl.metadata (2.5 kB)\n",
            "  Downloading dask_expr-1.1.4-py3-none-any.whl.metadata (2.5 kB)\n",
            "INFO: This is taking longer than usual. You might need to provide the dependency resolver with stricter constraints to reduce runtime. See https://pip.pypa.io/warnings/backtracking for guidance. If you want to abort this run, press Ctrl + C.\n",
            "  Downloading dask_expr-1.1.3-py3-none-any.whl.metadata (2.4 kB)\n",
            "  Downloading dask_expr-1.1.2-py3-none-any.whl.metadata (2.4 kB)\n",
            "  Downloading dask_expr-1.1.1-py3-none-any.whl.metadata (2.4 kB)\n",
            "Requirement already satisfied: uc-micro-py in /usr/local/lib/python3.10/dist-packages (from linkify-it-py->panel>=1.0->cuxfilter-cu12==24.6.*) (1.0.3)\n",
            "Requirement already satisfied: charset-normalizer<4,>=2 in /usr/local/lib/python3.10/dist-packages (from requests->datashader>=0.15->cuxfilter-cu12==24.6.*) (3.4.0)\n",
            "Requirement already satisfied: sniffio>=1.1 in /usr/local/lib/python3.10/dist-packages (from anyio<4,>=3.1.0->jupyter-server>=1.24.0->jupyter-server-proxy->cuxfilter-cu12==24.6.*) (1.3.1)\n",
            "Requirement already satisfied: exceptiongroup in /usr/local/lib/python3.10/dist-packages (from anyio<4,>=3.1.0->jupyter-server>=1.24.0->jupyter-server-proxy->cuxfilter-cu12==24.6.*) (1.2.2)\n",
            "Requirement already satisfied: zipp>=3.20 in /usr/local/lib/python3.10/dist-packages (from importlib-metadata>=4.13.0->dask==2024.5.1->rapids-dask-dependency==24.6.*->cuml-cu12==24.6.*) (3.20.2)\n",
            "Requirement already satisfied: platformdirs>=2.5 in /usr/local/lib/python3.10/dist-packages (from jupyter-core!=5.0.*,>=4.12->jupyter-server>=1.24.0->jupyter-server-proxy->cuxfilter-cu12==24.6.*) (4.3.6)\n",
            "Requirement already satisfied: lxml in /usr/local/lib/python3.10/dist-packages (from nbconvert>=6.4.4->jupyter-server>=1.24.0->jupyter-server-proxy->cuxfilter-cu12==24.6.*) (4.9.4)\n",
            "Requirement already satisfied: beautifulsoup4 in /usr/local/lib/python3.10/dist-packages (from nbconvert>=6.4.4->jupyter-server>=1.24.0->jupyter-server-proxy->cuxfilter-cu12==24.6.*) (4.12.3)\n",
            "Requirement already satisfied: defusedxml in /usr/local/lib/python3.10/dist-packages (from nbconvert>=6.4.4->jupyter-server>=1.24.0->jupyter-server-proxy->cuxfilter-cu12==24.6.*) (0.7.1)\n",
            "Requirement already satisfied: entrypoints>=0.2.2 in /usr/local/lib/python3.10/dist-packages (from nbconvert>=6.4.4->jupyter-server>=1.24.0->jupyter-server-proxy->cuxfilter-cu12==24.6.*) (0.4)\n",
            "Requirement already satisfied: jupyterlab-pygments in /usr/local/lib/python3.10/dist-packages (from nbconvert>=6.4.4->jupyter-server>=1.24.0->jupyter-server-proxy->cuxfilter-cu12==24.6.*) (0.3.0)\n",
            "Requirement already satisfied: mistune<2,>=0.8.1 in /usr/local/lib/python3.10/dist-packages (from nbconvert>=6.4.4->jupyter-server>=1.24.0->jupyter-server-proxy->cuxfilter-cu12==24.6.*) (0.8.4)\n",
            "Requirement already satisfied: nbclient>=0.5.0 in /usr/local/lib/python3.10/dist-packages (from nbconvert>=6.4.4->jupyter-server>=1.24.0->jupyter-server-proxy->cuxfilter-cu12==24.6.*) (0.10.0)\n",
            "Requirement already satisfied: pandocfilters>=1.4.1 in /usr/local/lib/python3.10/dist-packages (from nbconvert>=6.4.4->jupyter-server>=1.24.0->jupyter-server-proxy->cuxfilter-cu12==24.6.*) (1.5.1)\n",
            "Requirement already satisfied: tinycss2 in /usr/local/lib/python3.10/dist-packages (from nbconvert>=6.4.4->jupyter-server>=1.24.0->jupyter-server-proxy->cuxfilter-cu12==24.6.*) (1.3.0)\n",
            "Requirement already satisfied: fastjsonschema>=2.15 in /usr/local/lib/python3.10/dist-packages (from nbformat>=5.2.0->jupyter-server>=1.24.0->jupyter-server-proxy->cuxfilter-cu12==24.6.*) (2.20.0)\n",
            "Requirement already satisfied: jsonschema>=2.6 in /usr/local/lib/python3.10/dist-packages (from nbformat>=5.2.0->jupyter-server>=1.24.0->jupyter-server-proxy->cuxfilter-cu12==24.6.*) (4.23.0)\n",
            "Requirement already satisfied: ptyprocess in /usr/local/lib/python3.10/dist-packages (from terminado>=0.8.3->jupyter-server>=1.24.0->jupyter-server-proxy->cuxfilter-cu12==24.6.*) (0.7.0)\n",
            "Requirement already satisfied: argon2-cffi-bindings in /usr/local/lib/python3.10/dist-packages (from argon2-cffi->jupyter-server>=1.24.0->jupyter-server-proxy->cuxfilter-cu12==24.6.*) (21.2.0)\n",
            "Requirement already satisfied: jsonschema-specifications>=2023.03.6 in /usr/local/lib/python3.10/dist-packages (from jsonschema>=2.6->nbformat>=5.2.0->jupyter-server>=1.24.0->jupyter-server-proxy->cuxfilter-cu12==24.6.*) (2024.10.1)\n",
            "Requirement already satisfied: referencing>=0.28.4 in /usr/local/lib/python3.10/dist-packages (from jsonschema>=2.6->nbformat>=5.2.0->jupyter-server>=1.24.0->jupyter-server-proxy->cuxfilter-cu12==24.6.*) (0.35.1)\n",
            "Requirement already satisfied: rpds-py>=0.7.1 in /usr/local/lib/python3.10/dist-packages (from jsonschema>=2.6->nbformat>=5.2.0->jupyter-server>=1.24.0->jupyter-server-proxy->cuxfilter-cu12==24.6.*) (0.20.0)\n",
            "Requirement already satisfied: cffi>=1.0.1 in /usr/local/lib/python3.10/dist-packages (from argon2-cffi-bindings->argon2-cffi->jupyter-server>=1.24.0->jupyter-server-proxy->cuxfilter-cu12==24.6.*) (1.17.1)\n",
            "Requirement already satisfied: soupsieve>1.2 in /usr/local/lib/python3.10/dist-packages (from beautifulsoup4->nbconvert>=6.4.4->jupyter-server>=1.24.0->jupyter-server-proxy->cuxfilter-cu12==24.6.*) (2.6)\n",
            "Requirement already satisfied: pycparser in /usr/local/lib/python3.10/dist-packages (from cffi>=1.0.1->argon2-cffi-bindings->argon2-cffi->jupyter-server>=1.24.0->jupyter-server-proxy->cuxfilter-cu12==24.6.*) (2.22)\n",
            "Downloading treelite-4.1.2-py3-none-manylinux2014_x86_64.whl (810 kB)\n",
            "   ━━━━━━━━━━━━━━━━━━━━━━━━━━━━━━━━━━━━━━━━ 810.9/810.9 kB 20.9 MB/s eta 0:00:00\n",
            "Downloading dask-2024.5.1-py3-none-any.whl (1.2 MB)\n",
            "   ━━━━━━━━━━━━━━━━━━━━━━━━━━━━━━━━━━━━━━━━ 1.2/1.2 MB 55.1 MB/s eta 0:00:00\n",
            "Downloading distributed-2024.5.1-py3-none-any.whl (1.0 MB)\n",
            "   ━━━━━━━━━━━━━━━━━━━━━━━━━━━━━━━━━━━━━━━━ 1.0/1.0 MB 56.0 MB/s eta 0:00:00\n",
            "Downloading datashader-0.16.3-py2.py3-none-any.whl (18.3 MB)\n",
            "   ━━━━━━━━━━━━━━━━━━━━━━━━━━━━━━━━━━━━━━━━ 18.3/18.3 MB 58.6 MB/s eta 0:00:00\n",
            "Downloading scikit_image-0.23.2-cp310-cp310-manylinux_2_17_x86_64.manylinux2014_x86_64.whl (14.7 MB)\n",
            "   ━━━━━━━━━━━━━━━━━━━━━━━━━━━━━━━━━━━━━━━━ 14.7/14.7 MB 97.4 MB/s eta 0:00:00\n",
            "Downloading jupyter_server_proxy-4.4.0-py3-none-any.whl (37 kB)\n",
            "Downloading libucx_cu12-1.15.0.post1-py3-none-manylinux_2_28_x86_64.whl (25.3 MB)\n",
            "   ━━━━━━━━━━━━━━━━━━━━━━━━━━━━━━━━━━━━━━━━ 25.3/25.3 MB 17.1 MB/s eta 0:00:00\n",
            "Downloading pynvml-11.4.1-py3-none-any.whl (46 kB)\n",
            "   ━━━━━━━━━━━━━━━━━━━━━━━━━━━━━━━━━━━━━━━━ 47.0/47.0 kB 2.9 MB/s eta 0:00:00\n",
            "Downloading simpervisor-1.0.0-py3-none-any.whl (8.3 kB)\n",
            "Downloading zict-3.0.0-py2.py3-none-any.whl (43 kB)\n",
            "   ━━━━━━━━━━━━━━━━━━━━━━━━━━━━━━━━━━━━━━━━ 43.3/43.3 kB 3.8 MB/s eta 0:00:00\n",
            "Downloading dask_expr-1.1.1-py3-none-any.whl (205 kB)\n",
            "   ━━━━━━━━━━━━━━━━━━━━━━━━━━━━━━━━━━━━━━━━ 205.4/205.4 kB 20.5 MB/s eta 0:00:00\n",
            "Downloading pyct-0.5.0-py2.py3-none-any.whl (15 kB)\n",
            "Downloading sortedcontainers-2.4.0-py2.py3-none-any.whl (29 kB)\n",
            "Downloading tblib-3.0.0-py3-none-any.whl (12 kB)\n",
            "Installing collected packages: sortedcontainers, zict, tblib, simpervisor, pynvml, pyct, libucx-cu12, ucx-py-cu12, treelite, scikit-image, rmm-cu12, dask, ucxx-cu12, pylibraft-cu12, distributed, dask-expr, cuproj-cu12, cudf-cu12, cucim-cu12, rapids-dask-dependency, pylibcugraph-cu12, datashader, cuspatial-cu12, nx-cugraph-cu12, distributed-ucxx-cu12, dask-cudf-cu12, dask-cuda, raft-dask-cu12, cuml-cu12, cugraph-cu12, jupyter-server-proxy, cuxfilter-cu12\n",
            "  Attempting uninstall: pynvml\n",
            "    Found existing installation: pynvml 11.5.3\n",
            "    Uninstalling pynvml-11.5.3:\n",
            "      Successfully uninstalled pynvml-11.5.3\n",
            "  Attempting uninstall: scikit-image\n",
            "    Found existing installation: scikit-image 0.24.0\n",
            "    Uninstalling scikit-image-0.24.0:\n",
            "      Successfully uninstalled scikit-image-0.24.0\n",
            "  Attempting uninstall: rmm-cu12\n",
            "    Found existing installation: rmm-cu12 24.10.0\n",
            "    Uninstalling rmm-cu12-24.10.0:\n",
            "      Successfully uninstalled rmm-cu12-24.10.0\n",
            "  Attempting uninstall: dask\n",
            "    Found existing installation: dask 2024.8.2\n",
            "    Uninstalling dask-2024.8.2:\n",
            "      Successfully uninstalled dask-2024.8.2\n",
            "  Attempting uninstall: pylibraft-cu12\n",
            "    Found existing installation: pylibraft-cu12 24.10.0\n",
            "    Uninstalling pylibraft-cu12-24.10.0:\n",
            "      Successfully uninstalled pylibraft-cu12-24.10.0\n",
            "  Attempting uninstall: cudf-cu12\n",
            "    Found existing installation: cudf-cu12 24.10.1\n",
            "    Uninstalling cudf-cu12-24.10.1:\n",
            "      Successfully uninstalled cudf-cu12-24.10.1\n",
            "  Attempting uninstall: pylibcugraph-cu12\n",
            "    Found existing installation: pylibcugraph-cu12 24.10.0\n",
            "    Uninstalling pylibcugraph-cu12-24.10.0:\n",
            "      Successfully uninstalled pylibcugraph-cu12-24.10.0\n",
            "  Attempting uninstall: nx-cugraph-cu12\n",
            "    Found existing installation: nx-cugraph-cu12 24.10.0\n",
            "    Uninstalling nx-cugraph-cu12-24.10.0:\n",
            "      Successfully uninstalled nx-cugraph-cu12-24.10.0\n",
            "ERROR: pip's dependency resolver does not currently take into account all the packages that are installed. This behaviour is the source of the following dependency conflicts.\n",
            "pylibcudf-cu12 24.10.1 requires rmm-cu12==24.10.*, but you have rmm-cu12 24.6.0 which is incompatible.\n",
            "Successfully installed cucim-cu12-24.6.0 cudf-cu12-24.6.1 cugraph-cu12-24.6.1 cuml-cu12-24.6.1 cuproj-cu12-24.6.0 cuspatial-cu12-24.6.0 cuxfilter-cu12-24.6.0 dask-2024.5.1 dask-cuda-24.6.0 dask-cudf-cu12-24.6.1 dask-expr-1.1.1 datashader-0.16.3 distributed-2024.5.1 distributed-ucxx-cu12-0.38.0 jupyter-server-proxy-4.4.0 libucx-cu12-1.15.0.post1 nx-cugraph-cu12-24.6.1 pyct-0.5.0 pylibcugraph-cu12-24.6.1 pylibraft-cu12-24.6.0 pynvml-11.4.1 raft-dask-cu12-24.6.0 rapids-dask-dependency-24.6.0 rmm-cu12-24.6.0 scikit-image-0.23.2 simpervisor-1.0.0 sortedcontainers-2.4.0 tblib-3.0.0 treelite-4.1.2 ucx-py-cu12-0.38.0 ucxx-cu12-0.38.0 zict-3.0.0\n",
            "\n",
            "        ***********************************************************************\n",
            "        The pip install of RAPIDS is complete.\n",
            "        \n",
            "        Please do not run any further installation from the conda based installation methods, as they may cause issues!\n",
            "        \n",
            "        Please ensure that you're pulling from the git repo to remain updated with the latest working install scripts.\n",
            "\n",
            "        Troubleshooting:\n",
            "            - If there is an installation failure, please check back on RAPIDSAI owned templates/notebooks to see how to update your personal files. \n",
            "            - If an installation failure persists when using the latest script, please make an issue on https://github.com/rapidsai-community/rapidsai-csp-utils\n",
            "        ***********************************************************************\n",
            "        \n"
          ]
        }
      ],
      "source": [
        "!git clone https://github.com/rapidsai/rapidsai-csp-utils.git\n",
        "!python rapidsai-csp-utils/colab/pip-install.py"
      ]
    },
    {
      "cell_type": "code",
      "execution_count": null,
      "metadata": {
        "id": "WkP5jZSIZCE7"
      },
      "outputs": [],
      "source": [
        "import shutil\n",
        "import torch\n",
        "import torch.nn as nn\n",
        "from torch.utils.data import DataLoader, TensorDataset"
      ]
    },
    {
      "cell_type": "markdown",
      "metadata": {
        "id": "861X-2gEEnY3"
      },
      "source": [
        "<font color=\"red\">**- - - - MOHON DIPERHATIKAN - - - -**</font>\n",
        "<br>**Aktifkan GPU sekarang.** Di Google Colab, klik **Runtime > Change Runtime Type**, lalu pilih **T4 GPU**."
      ]
    },
    {
      "cell_type": "markdown",
      "metadata": {
        "id": "HSvMfJL1ZCE_"
      },
      "source": [
        "### Dataset Loading (CPU vs. GPU)"
      ]
    },
    {
      "cell_type": "code",
      "execution_count": null,
      "metadata": {
        "id": "5gnAKcO7kUPA"
      },
      "outputs": [],
      "source": [
        "from pandas import read_csv as read_by_CPU\n",
        "from cudf import read_csv as read_by_GPU"
      ]
    },
    {
      "cell_type": "code",
      "execution_count": null,
      "metadata": {
        "id": "Ojn_qv6ucAcO"
      },
      "outputs": [],
      "source": [
        "# unzip the file\n",
        "shutil.unpack_archive('dataset_case_04.zip', '/content/sample_data/', 'zip')"
      ]
    },
    {
      "cell_type": "code",
      "execution_count": null,
      "metadata": {
        "id": "DOQKgmXYZCFB",
        "colab": {
          "base_uri": "https://localhost:8080/"
        },
        "outputId": "dee73e4f-904e-440f-c85c-6cf0b679cca0"
      },
      "outputs": [
        {
          "output_type": "stream",
          "name": "stdout",
          "text": [
            "CPU times: user 6.32 s, sys: 329 ms, total: 6.65 s\n",
            "Wall time: 10.3 s\n"
          ]
        }
      ],
      "source": [
        "# TODO: Impor dataset dengan Pandas, gunakan fungsi \"read_by_CPU\"\n",
        "%time data_cpu = read_by_CPU('/content/sample_data/creditcard_2023.csv')"
      ]
    },
    {
      "cell_type": "code",
      "execution_count": null,
      "metadata": {
        "id": "P8kOLF4ncWe_",
        "colab": {
          "base_uri": "https://localhost:8080/",
          "height": 290
        },
        "outputId": "bf410fa6-577f-4bbb-b780-e05df70c454c"
      },
      "outputs": [
        {
          "output_type": "stream",
          "name": "stdout",
          "text": [
            "CPU times: user 297 ms, sys: 497 ms, total: 793 ms\n",
            "Wall time: 1.5 s\n"
          ]
        },
        {
          "output_type": "execute_result",
          "data": {
            "text/plain": [
              "   id        V1        V2        V3        V4        V5        V6        V7  \\\n",
              "0   0 -0.260648 -0.469648  2.496266 -0.083724  0.129681  0.732898  0.519014   \n",
              "1   1  0.985100 -0.356045  0.558056 -0.429654  0.277140  0.428605  0.406466   \n",
              "2   2 -0.260272 -0.949385  1.728538 -0.457986  0.074062  1.419481  0.743511   \n",
              "3   3 -0.152152 -0.508959  1.746840 -1.090178  0.249486  1.143312  0.518269   \n",
              "4   4 -0.206820 -0.165280  1.527053 -0.448293  0.106125  0.530549  0.658849   \n",
              "\n",
              "         V8        V9  ...       V21       V22       V23       V24       V25  \\\n",
              "0 -0.130006  0.727159  ... -0.110552  0.217606 -0.134794  0.165959  0.126280   \n",
              "1 -0.133118  0.347452  ... -0.194936 -0.605761  0.079469 -0.577395  0.190090   \n",
              "2 -0.095576 -0.261297  ... -0.005020  0.702906  0.945045 -1.154666 -0.605564   \n",
              "3 -0.065130 -0.205698  ... -0.146927 -0.038212 -0.214048 -1.893131  1.003963   \n",
              "4 -0.212660  1.049921  ... -0.106984  0.729727 -0.161666  0.312561 -0.414116   \n",
              "\n",
              "        V26       V27       V28    Amount  Class  \n",
              "0 -0.434824 -0.081230 -0.151045  17982.10      0  \n",
              "1  0.296503 -0.248052 -0.064512   6531.37      0  \n",
              "2 -0.312895 -0.300258 -0.244718   2513.54      0  \n",
              "3 -0.515950 -0.165316  0.048424   5384.44      0  \n",
              "4  1.071126  0.023712  0.419117  14278.97      0  \n",
              "\n",
              "[5 rows x 31 columns]"
            ],
            "text/html": [
              "<div>\n",
              "<style scoped>\n",
              "    .dataframe tbody tr th:only-of-type {\n",
              "        vertical-align: middle;\n",
              "    }\n",
              "\n",
              "    .dataframe tbody tr th {\n",
              "        vertical-align: top;\n",
              "    }\n",
              "\n",
              "    .dataframe thead th {\n",
              "        text-align: right;\n",
              "    }\n",
              "</style>\n",
              "<table border=\"1\" class=\"dataframe\">\n",
              "  <thead>\n",
              "    <tr style=\"text-align: right;\">\n",
              "      <th></th>\n",
              "      <th>id</th>\n",
              "      <th>V1</th>\n",
              "      <th>V2</th>\n",
              "      <th>V3</th>\n",
              "      <th>V4</th>\n",
              "      <th>V5</th>\n",
              "      <th>V6</th>\n",
              "      <th>V7</th>\n",
              "      <th>V8</th>\n",
              "      <th>V9</th>\n",
              "      <th>...</th>\n",
              "      <th>V21</th>\n",
              "      <th>V22</th>\n",
              "      <th>V23</th>\n",
              "      <th>V24</th>\n",
              "      <th>V25</th>\n",
              "      <th>V26</th>\n",
              "      <th>V27</th>\n",
              "      <th>V28</th>\n",
              "      <th>Amount</th>\n",
              "      <th>Class</th>\n",
              "    </tr>\n",
              "  </thead>\n",
              "  <tbody>\n",
              "    <tr>\n",
              "      <th>0</th>\n",
              "      <td>0</td>\n",
              "      <td>-0.260648</td>\n",
              "      <td>-0.469648</td>\n",
              "      <td>2.496266</td>\n",
              "      <td>-0.083724</td>\n",
              "      <td>0.129681</td>\n",
              "      <td>0.732898</td>\n",
              "      <td>0.519014</td>\n",
              "      <td>-0.130006</td>\n",
              "      <td>0.727159</td>\n",
              "      <td>...</td>\n",
              "      <td>-0.110552</td>\n",
              "      <td>0.217606</td>\n",
              "      <td>-0.134794</td>\n",
              "      <td>0.165959</td>\n",
              "      <td>0.126280</td>\n",
              "      <td>-0.434824</td>\n",
              "      <td>-0.081230</td>\n",
              "      <td>-0.151045</td>\n",
              "      <td>17982.10</td>\n",
              "      <td>0</td>\n",
              "    </tr>\n",
              "    <tr>\n",
              "      <th>1</th>\n",
              "      <td>1</td>\n",
              "      <td>0.985100</td>\n",
              "      <td>-0.356045</td>\n",
              "      <td>0.558056</td>\n",
              "      <td>-0.429654</td>\n",
              "      <td>0.277140</td>\n",
              "      <td>0.428605</td>\n",
              "      <td>0.406466</td>\n",
              "      <td>-0.133118</td>\n",
              "      <td>0.347452</td>\n",
              "      <td>...</td>\n",
              "      <td>-0.194936</td>\n",
              "      <td>-0.605761</td>\n",
              "      <td>0.079469</td>\n",
              "      <td>-0.577395</td>\n",
              "      <td>0.190090</td>\n",
              "      <td>0.296503</td>\n",
              "      <td>-0.248052</td>\n",
              "      <td>-0.064512</td>\n",
              "      <td>6531.37</td>\n",
              "      <td>0</td>\n",
              "    </tr>\n",
              "    <tr>\n",
              "      <th>2</th>\n",
              "      <td>2</td>\n",
              "      <td>-0.260272</td>\n",
              "      <td>-0.949385</td>\n",
              "      <td>1.728538</td>\n",
              "      <td>-0.457986</td>\n",
              "      <td>0.074062</td>\n",
              "      <td>1.419481</td>\n",
              "      <td>0.743511</td>\n",
              "      <td>-0.095576</td>\n",
              "      <td>-0.261297</td>\n",
              "      <td>...</td>\n",
              "      <td>-0.005020</td>\n",
              "      <td>0.702906</td>\n",
              "      <td>0.945045</td>\n",
              "      <td>-1.154666</td>\n",
              "      <td>-0.605564</td>\n",
              "      <td>-0.312895</td>\n",
              "      <td>-0.300258</td>\n",
              "      <td>-0.244718</td>\n",
              "      <td>2513.54</td>\n",
              "      <td>0</td>\n",
              "    </tr>\n",
              "    <tr>\n",
              "      <th>3</th>\n",
              "      <td>3</td>\n",
              "      <td>-0.152152</td>\n",
              "      <td>-0.508959</td>\n",
              "      <td>1.746840</td>\n",
              "      <td>-1.090178</td>\n",
              "      <td>0.249486</td>\n",
              "      <td>1.143312</td>\n",
              "      <td>0.518269</td>\n",
              "      <td>-0.065130</td>\n",
              "      <td>-0.205698</td>\n",
              "      <td>...</td>\n",
              "      <td>-0.146927</td>\n",
              "      <td>-0.038212</td>\n",
              "      <td>-0.214048</td>\n",
              "      <td>-1.893131</td>\n",
              "      <td>1.003963</td>\n",
              "      <td>-0.515950</td>\n",
              "      <td>-0.165316</td>\n",
              "      <td>0.048424</td>\n",
              "      <td>5384.44</td>\n",
              "      <td>0</td>\n",
              "    </tr>\n",
              "    <tr>\n",
              "      <th>4</th>\n",
              "      <td>4</td>\n",
              "      <td>-0.206820</td>\n",
              "      <td>-0.165280</td>\n",
              "      <td>1.527053</td>\n",
              "      <td>-0.448293</td>\n",
              "      <td>0.106125</td>\n",
              "      <td>0.530549</td>\n",
              "      <td>0.658849</td>\n",
              "      <td>-0.212660</td>\n",
              "      <td>1.049921</td>\n",
              "      <td>...</td>\n",
              "      <td>-0.106984</td>\n",
              "      <td>0.729727</td>\n",
              "      <td>-0.161666</td>\n",
              "      <td>0.312561</td>\n",
              "      <td>-0.414116</td>\n",
              "      <td>1.071126</td>\n",
              "      <td>0.023712</td>\n",
              "      <td>0.419117</td>\n",
              "      <td>14278.97</td>\n",
              "      <td>0</td>\n",
              "    </tr>\n",
              "  </tbody>\n",
              "</table>\n",
              "<p>5 rows × 31 columns</p>\n",
              "</div>"
            ]
          },
          "metadata": {},
          "execution_count": 6
        }
      ],
      "source": [
        "# Impor dataset dengan cuDF (Pandas di GPU)\n",
        "%time data_gpu = read_by_GPU('/content/sample_data/creditcard_2023.csv')\n",
        "\n",
        "# Menampilkan data untuk verifikasi\n",
        "data_gpu.head()"
      ]
    },
    {
      "cell_type": "code",
      "execution_count": null,
      "metadata": {
        "colab": {
          "base_uri": "https://localhost:8080/",
          "height": 255
        },
        "id": "paQFb9zLZCFC",
        "outputId": "5f787f32-e3be-410c-e8ea-1a22ed2890e2"
      },
      "outputs": [
        {
          "output_type": "execute_result",
          "data": {
            "text/plain": [
              "         V1        V2        V3        V4        V5        V6        V7  \\\n",
              "0 -0.260648 -0.469648  2.496266 -0.083724  0.129681  0.732898  0.519014   \n",
              "1  0.985100 -0.356045  0.558056 -0.429654  0.277140  0.428605  0.406466   \n",
              "2 -0.260272 -0.949385  1.728538 -0.457986  0.074062  1.419481  0.743511   \n",
              "3 -0.152152 -0.508959  1.746840 -1.090178  0.249486  1.143312  0.518269   \n",
              "4 -0.206820 -0.165280  1.527053 -0.448293  0.106125  0.530549  0.658849   \n",
              "\n",
              "         V8        V9       V10  ...       V21       V22       V23       V24  \\\n",
              "0 -0.130006  0.727159  0.637735  ... -0.110552  0.217606 -0.134794  0.165959   \n",
              "1 -0.133118  0.347452  0.529808  ... -0.194936 -0.605761  0.079469 -0.577395   \n",
              "2 -0.095576 -0.261297  0.690708  ... -0.005020  0.702906  0.945045 -1.154666   \n",
              "3 -0.065130 -0.205698  0.575231  ... -0.146927 -0.038212 -0.214048 -1.893131   \n",
              "4 -0.212660  1.049921  0.968046  ... -0.106984  0.729727 -0.161666  0.312561   \n",
              "\n",
              "        V25       V26       V27       V28    Amount  Class  \n",
              "0  0.126280 -0.434824 -0.081230 -0.151045  17982.10      0  \n",
              "1  0.190090  0.296503 -0.248052 -0.064512   6531.37      0  \n",
              "2 -0.605564 -0.312895 -0.300258 -0.244718   2513.54      0  \n",
              "3  1.003963 -0.515950 -0.165316  0.048424   5384.44      0  \n",
              "4 -0.414116  1.071126  0.023712  0.419117  14278.97      0  \n",
              "\n",
              "[5 rows x 30 columns]"
            ],
            "text/html": [
              "<div>\n",
              "<style scoped>\n",
              "    .dataframe tbody tr th:only-of-type {\n",
              "        vertical-align: middle;\n",
              "    }\n",
              "\n",
              "    .dataframe tbody tr th {\n",
              "        vertical-align: top;\n",
              "    }\n",
              "\n",
              "    .dataframe thead th {\n",
              "        text-align: right;\n",
              "    }\n",
              "</style>\n",
              "<table border=\"1\" class=\"dataframe\">\n",
              "  <thead>\n",
              "    <tr style=\"text-align: right;\">\n",
              "      <th></th>\n",
              "      <th>V1</th>\n",
              "      <th>V2</th>\n",
              "      <th>V3</th>\n",
              "      <th>V4</th>\n",
              "      <th>V5</th>\n",
              "      <th>V6</th>\n",
              "      <th>V7</th>\n",
              "      <th>V8</th>\n",
              "      <th>V9</th>\n",
              "      <th>V10</th>\n",
              "      <th>...</th>\n",
              "      <th>V21</th>\n",
              "      <th>V22</th>\n",
              "      <th>V23</th>\n",
              "      <th>V24</th>\n",
              "      <th>V25</th>\n",
              "      <th>V26</th>\n",
              "      <th>V27</th>\n",
              "      <th>V28</th>\n",
              "      <th>Amount</th>\n",
              "      <th>Class</th>\n",
              "    </tr>\n",
              "  </thead>\n",
              "  <tbody>\n",
              "    <tr>\n",
              "      <th>0</th>\n",
              "      <td>-0.260648</td>\n",
              "      <td>-0.469648</td>\n",
              "      <td>2.496266</td>\n",
              "      <td>-0.083724</td>\n",
              "      <td>0.129681</td>\n",
              "      <td>0.732898</td>\n",
              "      <td>0.519014</td>\n",
              "      <td>-0.130006</td>\n",
              "      <td>0.727159</td>\n",
              "      <td>0.637735</td>\n",
              "      <td>...</td>\n",
              "      <td>-0.110552</td>\n",
              "      <td>0.217606</td>\n",
              "      <td>-0.134794</td>\n",
              "      <td>0.165959</td>\n",
              "      <td>0.126280</td>\n",
              "      <td>-0.434824</td>\n",
              "      <td>-0.081230</td>\n",
              "      <td>-0.151045</td>\n",
              "      <td>17982.10</td>\n",
              "      <td>0</td>\n",
              "    </tr>\n",
              "    <tr>\n",
              "      <th>1</th>\n",
              "      <td>0.985100</td>\n",
              "      <td>-0.356045</td>\n",
              "      <td>0.558056</td>\n",
              "      <td>-0.429654</td>\n",
              "      <td>0.277140</td>\n",
              "      <td>0.428605</td>\n",
              "      <td>0.406466</td>\n",
              "      <td>-0.133118</td>\n",
              "      <td>0.347452</td>\n",
              "      <td>0.529808</td>\n",
              "      <td>...</td>\n",
              "      <td>-0.194936</td>\n",
              "      <td>-0.605761</td>\n",
              "      <td>0.079469</td>\n",
              "      <td>-0.577395</td>\n",
              "      <td>0.190090</td>\n",
              "      <td>0.296503</td>\n",
              "      <td>-0.248052</td>\n",
              "      <td>-0.064512</td>\n",
              "      <td>6531.37</td>\n",
              "      <td>0</td>\n",
              "    </tr>\n",
              "    <tr>\n",
              "      <th>2</th>\n",
              "      <td>-0.260272</td>\n",
              "      <td>-0.949385</td>\n",
              "      <td>1.728538</td>\n",
              "      <td>-0.457986</td>\n",
              "      <td>0.074062</td>\n",
              "      <td>1.419481</td>\n",
              "      <td>0.743511</td>\n",
              "      <td>-0.095576</td>\n",
              "      <td>-0.261297</td>\n",
              "      <td>0.690708</td>\n",
              "      <td>...</td>\n",
              "      <td>-0.005020</td>\n",
              "      <td>0.702906</td>\n",
              "      <td>0.945045</td>\n",
              "      <td>-1.154666</td>\n",
              "      <td>-0.605564</td>\n",
              "      <td>-0.312895</td>\n",
              "      <td>-0.300258</td>\n",
              "      <td>-0.244718</td>\n",
              "      <td>2513.54</td>\n",
              "      <td>0</td>\n",
              "    </tr>\n",
              "    <tr>\n",
              "      <th>3</th>\n",
              "      <td>-0.152152</td>\n",
              "      <td>-0.508959</td>\n",
              "      <td>1.746840</td>\n",
              "      <td>-1.090178</td>\n",
              "      <td>0.249486</td>\n",
              "      <td>1.143312</td>\n",
              "      <td>0.518269</td>\n",
              "      <td>-0.065130</td>\n",
              "      <td>-0.205698</td>\n",
              "      <td>0.575231</td>\n",
              "      <td>...</td>\n",
              "      <td>-0.146927</td>\n",
              "      <td>-0.038212</td>\n",
              "      <td>-0.214048</td>\n",
              "      <td>-1.893131</td>\n",
              "      <td>1.003963</td>\n",
              "      <td>-0.515950</td>\n",
              "      <td>-0.165316</td>\n",
              "      <td>0.048424</td>\n",
              "      <td>5384.44</td>\n",
              "      <td>0</td>\n",
              "    </tr>\n",
              "    <tr>\n",
              "      <th>4</th>\n",
              "      <td>-0.206820</td>\n",
              "      <td>-0.165280</td>\n",
              "      <td>1.527053</td>\n",
              "      <td>-0.448293</td>\n",
              "      <td>0.106125</td>\n",
              "      <td>0.530549</td>\n",
              "      <td>0.658849</td>\n",
              "      <td>-0.212660</td>\n",
              "      <td>1.049921</td>\n",
              "      <td>0.968046</td>\n",
              "      <td>...</td>\n",
              "      <td>-0.106984</td>\n",
              "      <td>0.729727</td>\n",
              "      <td>-0.161666</td>\n",
              "      <td>0.312561</td>\n",
              "      <td>-0.414116</td>\n",
              "      <td>1.071126</td>\n",
              "      <td>0.023712</td>\n",
              "      <td>0.419117</td>\n",
              "      <td>14278.97</td>\n",
              "      <td>0</td>\n",
              "    </tr>\n",
              "  </tbody>\n",
              "</table>\n",
              "<p>5 rows × 30 columns</p>\n",
              "</div>"
            ]
          },
          "metadata": {},
          "execution_count": 7
        }
      ],
      "source": [
        "# TODO: Hilangkan kolom ID\n",
        "data_gpu = data_gpu.drop(columns=['id'])\n",
        "\n",
        "# Menampilkan data untuk verifikasi\n",
        "data_gpu.head()"
      ]
    },
    {
      "cell_type": "markdown",
      "metadata": {
        "id": "J2FBAhocj1IR"
      },
      "source": [
        "### Standardization (CPU vs. GPU)"
      ]
    },
    {
      "cell_type": "code",
      "execution_count": null,
      "metadata": {
        "id": "4cBn8jNskGDS"
      },
      "outputs": [],
      "source": [
        "from sklearn.preprocessing import StandardScaler as StandardScalerCPU\n",
        "from cuml.preprocessing import StandardScaler as StandardScalerGPU"
      ]
    },
    {
      "cell_type": "code",
      "execution_count": null,
      "metadata": {
        "id": "UcpTE3osjZKc"
      },
      "outputs": [],
      "source": [
        "ScalerCPU = StandardScalerCPU()\n",
        "ScalerGPU = StandardScalerGPU()\n",
        "\n",
        "arbitrary_features = [\"V\"+str(i+1) for i in range(27)]"
      ]
    },
    {
      "cell_type": "code",
      "execution_count": null,
      "metadata": {
        "colab": {
          "base_uri": "https://localhost:8080/"
        },
        "id": "1qkT_zVUZCFF",
        "outputId": "5c121559-6718-4b15-af52-c244bc9a3b7e"
      },
      "outputs": [
        {
          "output_type": "stream",
          "name": "stdout",
          "text": [
            "CPU times: user 222 ms, sys: 482 ms, total: 704 ms\n",
            "Wall time: 691 ms\n"
          ]
        }
      ],
      "source": [
        "%%time\n",
        "\n",
        "data_cpu[arbitrary_features] = ScalerCPU.fit_transform(data_cpu[arbitrary_features].values)\n",
        "data_cpu[\"Amount\"] = ScalerCPU.fit_transform(data_cpu[\"Amount\"].values.reshape(-1, 1)).squeeze()"
      ]
    },
    {
      "cell_type": "code",
      "execution_count": null,
      "metadata": {
        "colab": {
          "base_uri": "https://localhost:8080/"
        },
        "id": "DcD5PCr7ePCZ",
        "outputId": "b64316a9-0d53-47ac-ae98-74f3689b88dd"
      },
      "outputs": [
        {
          "output_type": "stream",
          "name": "stdout",
          "text": [
            "CPU times: user 18.8 s, sys: 1.15 s, total: 19.9 s\n",
            "Wall time: 24.4 s\n"
          ]
        }
      ],
      "source": [
        "%%time\n",
        "\n",
        "data_gpu[arbitrary_features] = ScalerGPU.fit_transform(data_gpu[arbitrary_features].values)\n",
        "data_gpu[\"Amount\"] = ScalerGPU.fit_transform(data_gpu[\"Amount\"].values.reshape(-1, 1)).squeeze()"
      ]
    },
    {
      "cell_type": "markdown",
      "metadata": {
        "id": "wp7MqaUrZCFJ"
      },
      "source": [
        "### Train/Test Split (CPU vs. GPU)"
      ]
    },
    {
      "cell_type": "code",
      "execution_count": null,
      "metadata": {
        "id": "zXlDibQ_jps4"
      },
      "outputs": [],
      "source": [
        "from sklearn.model_selection import train_test_split as splitCPU\n",
        "from cuml.preprocessing import train_test_split as splitGPU"
      ]
    },
    {
      "cell_type": "code",
      "execution_count": null,
      "metadata": {
        "id": "K0kl7RQQZCFH"
      },
      "outputs": [],
      "source": [
        "# TODO: Tentukan X (features) dan Y (target), gunakan \"data_gpu\"\n",
        "# Asumsikan kolom 'Class' sebagai target (Y) dan sisanya adalah fitur (X)\n",
        "X = data_gpu.drop(columns=['Class'])\n",
        "Y = data_gpu['Class']"
      ]
    },
    {
      "cell_type": "code",
      "execution_count": null,
      "metadata": {
        "colab": {
          "base_uri": "https://localhost:8080/"
        },
        "id": "Re8mIqeKZCFK",
        "outputId": "1a140b81-3633-4987-8bfa-33f999f454b9"
      },
      "outputs": [
        {
          "output_type": "stream",
          "name": "stdout",
          "text": [
            "x_train shape:  (454904, 29)\n",
            "x_test shape:  (113726, 29)\n",
            "CPU times: user 53.2 ms, sys: 16.6 ms, total: 69.8 ms\n",
            "Wall time: 141 ms\n"
          ]
        }
      ],
      "source": [
        "%%time\n",
        "\n",
        "# TODO: Pecah dataset dengan komposisi 80% train set dan 20% test set, dengan fungsi \"splitCPU\"\n",
        "test_size = 0.2\n",
        "random_state = 42\n",
        "x_train, x_test, y_train, y_test = splitCPU(X, Y, test_size=test_size, random_state=random_state)\n",
        "\n",
        "print(\"x_train shape: \", x_train.shape)\n",
        "print(\"x_test shape: \", x_test.shape)"
      ]
    },
    {
      "cell_type": "code",
      "execution_count": null,
      "metadata": {
        "colab": {
          "base_uri": "https://localhost:8080/"
        },
        "id": "kJF3WiFXiPeX",
        "outputId": "a0e05839-3afb-4016-f863-953aa75a10ef"
      },
      "outputs": [
        {
          "output_type": "stream",
          "name": "stdout",
          "text": [
            "x_train shape:  (454904, 29)\n",
            "x_test shape:  (113726, 29)\n",
            "CPU times: user 1.15 s, sys: 71.4 ms, total: 1.22 s\n",
            "Wall time: 1.28 s\n"
          ]
        }
      ],
      "source": [
        "%%time\n",
        "\n",
        "# TODO: Lakukan hal yang sama untuk data spliting, tetapi dengan fungsi \"splitGPU\"\n",
        "test_size =  0.2\n",
        "random_state = 42\n",
        "x_train, x_test, y_train, y_test = splitGPU(X, Y, test_size=test_size, random_state=random_state)\n",
        "\n",
        "print(\"x_train shape: \", x_train.shape)\n",
        "print(\"x_test shape: \", x_test.shape)"
      ]
    },
    {
      "cell_type": "markdown",
      "metadata": {
        "id": "QZcVl4wgZCFO"
      },
      "source": [
        "### Convert the dataset into Tensor"
      ]
    },
    {
      "cell_type": "code",
      "execution_count": null,
      "metadata": {
        "id": "ciQHEDCcu074"
      },
      "outputs": [],
      "source": [
        "import cupy # Numpy for GPU"
      ]
    },
    {
      "cell_type": "code",
      "execution_count": null,
      "metadata": {
        "id": "yYPaM_UMZCFP",
        "colab": {
          "base_uri": "https://localhost:8080/"
        },
        "outputId": "168b401d-b23c-4e73-c589-9e6158380fef"
      },
      "outputs": [
        {
          "output_type": "stream",
          "name": "stdout",
          "text": [
            "Device yang Digunakan: cuda\n"
          ]
        }
      ],
      "source": [
        "# TODO: Aktifkan GPU (CUDA) sebagai device untuk training\n",
        "# device = torch.device('cuda' if torch.cuda.is_available() else \"cpu\")\n",
        "device = torch.device('cuda')\n",
        "# buat ngecek aja\n",
        "# device\n",
        "print(f\"Device yang Digunakan: {device}\")"
      ]
    },
    {
      "cell_type": "code",
      "execution_count": null,
      "metadata": {
        "id": "84408FY1ZCFQ"
      },
      "outputs": [],
      "source": [
        "x_train_tensor = torch.tensor(x_train.to_cupy(), dtype=torch.float32).to(device)\n",
        "y_train_tensor = torch.tensor(y_train.to_cupy(), dtype=torch.float32).to(device)\n",
        "\n",
        "x_test_tensor = torch.tensor(x_test.to_cupy(), dtype=torch.float32).to(device)\n",
        "y_test_tensor = torch.tensor(y_test.to_cupy(), dtype=torch.float32).to(device)\n",
        "\n",
        "Train_tensor = torch.utils.data.TensorDataset(x_train_tensor, y_train_tensor)\n",
        "Test_tensor = torch.utils.data.TensorDataset(x_test_tensor, y_test_tensor)"
      ]
    },
    {
      "cell_type": "markdown",
      "metadata": {
        "id": "f9spIXPHZCFR"
      },
      "source": [
        "### Batching the Dataset with PyTorch DataLoader"
      ]
    },
    {
      "cell_type": "code",
      "execution_count": null,
      "metadata": {
        "id": "ld5CPEnPZCFR"
      },
      "outputs": [],
      "source": [
        "# TODO: Tentukan nilai batch\n",
        "# batch_size = 32\n",
        "batch_size = 64\n",
        "# batch_size = 128\n",
        "\n",
        "Train_dataset = DataLoader(Train_tensor, batch_size=batch_size, shuffle=True)\n",
        "Test_dataset = DataLoader(Test_tensor, batch_size=batch_size, shuffle=False)"
      ]
    },
    {
      "cell_type": "markdown",
      "metadata": {
        "id": "zwpmEpwbZCFS"
      },
      "source": [
        "### Model Blueprint"
      ]
    },
    {
      "cell_type": "code",
      "execution_count": null,
      "metadata": {
        "id": "tqDbyYGPZCFT"
      },
      "outputs": [],
      "source": [
        "class FeedForward(nn.Module):\n",
        "    def __init__(self, input_dim, num_neurons):\n",
        "        super(FeedForward, self).__init__()\n",
        "        self.input_dim = input_dim\n",
        "        self.num_neurons = num_neurons\n",
        "\n",
        "        self.net = nn.Sequential(\n",
        "            nn.Linear(self.input_dim, self.num_neurons),\n",
        "            nn.ReLU()\n",
        "        )\n",
        "\n",
        "    def forward(self, x):\n",
        "        return self.net(x)\n",
        "\n",
        "    def to(self, device):\n",
        "        self.net.to(device)\n",
        "        return self\n",
        "\n",
        "class Net(nn.Module):\n",
        "    def __init__(self, in_features, num_layers, num_neurons):\n",
        "        super(Net, self).__init__()\n",
        "        self.in_features = in_features\n",
        "        self.num_layers = num_layers\n",
        "        self.num_neurons = num_neurons\n",
        "\n",
        "        self.fc1 = nn.Linear(self.in_features, self.num_neurons)\n",
        "        self.relu = nn.ReLU()\n",
        "        self.blocks = [FeedForward(self.num_neurons, self.num_neurons).to(device) \\\n",
        "                       for _ in range(self.num_layers)]\n",
        "        self.output_layer = nn.Linear(self.num_neurons, 1)\n",
        "        self.sigmoid = nn.Sigmoid()\n",
        "\n",
        "    def forward(self, x):\n",
        "        output = self.relu(self.fc1(x))\n",
        "\n",
        "        for block in self.blocks:\n",
        "            output = block(output)\n",
        "        output = self.sigmoid(self.output_layer(output))\n",
        "\n",
        "        return output"
      ]
    },
    {
      "cell_type": "markdown",
      "metadata": {
        "id": "31B0wSqcZCFT"
      },
      "source": [
        "### Model Hyperparameters and Parameters"
      ]
    },
    {
      "cell_type": "code",
      "execution_count": null,
      "metadata": {
        "id": "fr2hoJxGZCFU"
      },
      "outputs": [],
      "source": [
        "# [ PERTANYAAN ]\n",
        "# Apa perbedaan hyperparameters dan parameters?"
      ]
    },
    {
      "cell_type": "markdown",
      "metadata": {
        "id": "Cplhcw09ZCFU"
      },
      "source": [
        "### Hyperparameters\n",
        "**Hyperparameters** merupakan pengaturan model yang ditentukan sebelum proses pelatihan dimulai. Mereka tidak dipelajari oleh model itu sendiri, melainkan dipilih oleh suatu *data scientist* atau *data engineer*. Hyperparameters berperan sebagai semacam \"**kontrol**\" atas proses pembelajaran dalam model.\n",
        "\n",
        "**Contoh Hyperparameters:**<br>\n",
        "- Learning Rate<br>\n",
        "=> Ukuran langkah yang diambil saat mengupdate bobot model.\n",
        "- Jumlah Hidden Layer<br>\n",
        "=> Banyaknya lapisan tersembunyi dalam jaringan neural.\n",
        "- Jumlah Neuron Per-layer<br>\n",
        "=> Banyaknya neuron dalam setiap lapisan tersembunyi.\n",
        "- Fungsi Aktivasi<br>\n",
        "=> Fungsi yang digunakan untuk memperkenalkan non-linearitas ke dalam model.\n",
        "- Optimizer<br>\n",
        "=> Algoritma yang digunakan untuk meminimalkan *fungsi loss*.\n",
        "\n",
        "**Peran Hyperparameters:**<br>\n",
        "- Memengaruhi Kinerja Model<br>\n",
        "=> Pilihan hyperparameters yang tepat dapat secara signifikan memengaruhi akurasi, kecepatan konvergensi, dan kemampuan generalisasi model.\n",
        "- Mengontrol Kompleksitas Model<br>\n",
        "=> Hyperparameters dapat digunakan untuk mengatur kompleksitas model, sehingga dapat menghindari *overfitting* ataupun *underfitting*.\n",
        "- Membentuk Arsitektur Model<br>\n",
        "=> Hyperparameters menentukan struktur dasar dari model neural.\n",
        "\n",
        "---\n",
        "\n",
        "### Parameters\n",
        "**Parameters** merupakan variabel yang dipelajari oleh model selama proses pelatihan. Mereka adalah bobot dan bias yang menghubungkan neuron dalam jaringan neural. Dimana, **bobot (weight)** akan menentukan kekuatan koneksi antara neuron, sedangkan **bias** akan menentukan nilai *offset* dari neuron.\n",
        "\n",
        "**Contoh Parameters:**<br>\n",
        "- Bobot (Weights)<br>\n",
        "=> Nilai numerik yang menentukan seberapa kuat sinyal dari satu neuron diteruskan ke neuron lainnya.\n",
        "- Bias (Biases)<br>\n",
        "=> Nilai konstan yang ditambahkan ke output neuron sebelum diteruskan ke lapisan berikutnya.\n",
        "\n",
        "**Peran Parameters:**<br>\n",
        "- Merepresentasikan Pengetahuan Model<br>\n",
        "=> Parameter model berisi informasi yang dipelajari dari data pelatihan.\n",
        "- Digunakan untuk Membuat Prediksi<br>\n",
        "=> Parameter digunakan untuk membuat prediksi pada data yang baru.\n",
        "\n",
        "---\n",
        "\n",
        "### Kesimpulan Perbedaan Hyperparameters x Parameters\n",
        "\n",
        "| Fitur | Hyperparameters | Parameters |\n",
        "|----------|----------|----------|\n",
        "| Ditetapkan | Sebelum Pelatihan | Selama Pelatihan |\n",
        "| Diubah | Secara Manual oleh Manusia | Secara Otomatis oleh Algoritma Optimasi |\n",
        "| Peran | Mengontrol Proses Pembelajaran, Memengaruhi Kinerja Model | Merepresentasikan Pengetahuan yang Dipelajari dari Data dan Digunakan untuk Prediksi |\n",
        "| Dipelajari dari Data | YA | TIDAK |\n",
        "| Contoh | Learning Rate, Jumlah Layer, Fungsi Aktivasi | Bobot dan Bias |"
      ]
    },
    {
      "cell_type": "code",
      "execution_count": null,
      "metadata": {
        "id": "6jCK25QXZCFV",
        "colab": {
          "base_uri": "https://localhost:8080/"
        },
        "outputId": "a61d5c5f-ef14-47f2-ed04-e5015b9d6095"
      },
      "outputs": [
        {
          "output_type": "stream",
          "name": "stdout",
          "text": [
            "Epochs: 50\n",
            "Number of layers: 3\n",
            "Number of neurons per layer: 128\n",
            "Learning rate: 0.003\n"
          ]
        }
      ],
      "source": [
        "# TODO: Tentukan hyperparameters\n",
        "epochs = 50\n",
        "num_layers = 3\n",
        "num_neurons = 128\n",
        "learning_rate = 0.003\n",
        "\n",
        "# Buat Verifikasi Hyperparameters Saja\n",
        "print(f\"Epochs: {epochs}\")\n",
        "print(f\"Number of layers: {num_layers}\")\n",
        "print(f\"Number of neurons per layer: {num_neurons}\")\n",
        "print(f\"Learning rate: {learning_rate}\")"
      ]
    },
    {
      "cell_type": "code",
      "execution_count": null,
      "metadata": {
        "id": "W_6bIeQ_ZCFV",
        "colab": {
          "base_uri": "https://localhost:8080/"
        },
        "outputId": "8a026e87-e7c3-4e9a-b0c2-8b148b38f8cd"
      },
      "outputs": [
        {
          "output_type": "stream",
          "name": "stdout",
          "text": [
            "Number of inputs (features): 29\n",
            "Net(\n",
            "  (fc1): Linear(in_features=29, out_features=128, bias=True)\n",
            "  (relu): ReLU()\n",
            "  (output_layer): Linear(in_features=128, out_features=1, bias=True)\n",
            "  (sigmoid): Sigmoid()\n",
            ")\n"
          ]
        }
      ],
      "source": [
        "# TODO: Tentukan besaran input untuk model\n",
        "num_inputs = 29 # Jumlah features dalam dataset (selain target)\n",
        "\n",
        "model = Net(in_features= num_inputs, num_layers=num_layers, num_neurons=num_neurons)\n",
        "model = model.to(device)\n",
        "\n",
        "# Verifikasi model dan input size\n",
        "print(f\"Number of inputs (features): {num_inputs}\")\n",
        "print(model)"
      ]
    },
    {
      "cell_type": "code",
      "execution_count": null,
      "metadata": {
        "id": "f6ldLoneZCFW"
      },
      "outputs": [],
      "source": [
        "# Set the optimizer and loss function\n",
        "optimizer = torch.optim.Adam(model.parameters(), lr=learning_rate)\n",
        "criterion = nn.BCELoss()"
      ]
    },
    {
      "cell_type": "code",
      "execution_count": null,
      "metadata": {
        "id": "0Z-DVlMqZCFW",
        "colab": {
          "base_uri": "https://localhost:8080/"
        },
        "outputId": "639e121d-04d5-41c3-ecd3-b2222a6ae784"
      },
      "outputs": [
        {
          "output_type": "stream",
          "name": "stdout",
          "text": [
            "Number of parameters: 3,969\n",
            "Number of trainable parameters: 3,969\n"
          ]
        }
      ],
      "source": [
        "# Check the number of parameters\n",
        "print(\"Number of parameters: {:,}\".format(sum(p.numel() for p in model.parameters() if p.requires_grad)))\n",
        "print(\"Number of trainable parameters: {:,}\".format(sum(p.numel() for p in model.parameters() if p.requires_grad)))"
      ]
    },
    {
      "cell_type": "code",
      "execution_count": null,
      "metadata": {
        "id": "-iDhRA5rZCFX"
      },
      "outputs": [],
      "source": [
        "# [ PERTANYAAN ]\n",
        "# Mengapa total \"trainable parameters\" sama dengan total keseluruhan parameter?"
      ]
    },
    {
      "cell_type": "markdown",
      "metadata": {
        "id": "onibsgQ3ZCFX"
      },
      "source": [
        "Total trainable parameters sama dengan keseluruhan parameter karena seluruh bobot dan bias dalam model dilibatkan dalam proses optimasi selama pelatihan. Oleh karena itu, total **parameters** dalam model (3.969) sama dengan jumlah **trainable parameters** (3,969), karena semuanya dioptimalkan selama proses pembelajaran. Berikut ini beberapa alasan mengapa keduanya dianggap setara:\n",
        "\n",
        "1.) **Definisi Parameter**<br>\n",
        "==> Dalam neural network, parameter merujuk pada **berat (weights)** dan **bias** yang terhubung di antara neuron-neuron. Parameter-parameter ini menentukan bagaimana input ditransformasikan saat melewati lapisan-lapisan jaringan.<br>\n",
        "2.) **Trainable Parameters**<br>\n",
        "==> Parameter yang dioptimalkan selama training menggunakan metode ***backpropagation*** dan algoritma optimasi seperti **Stochastic Gradient Descent (SGD)** ataupun **ADAM**, dan lain sebagainya. Semua parameter yang mengalami pembaruan dalam model merupakan \"**trainable**\". <br>\n",
        "3.) **Relationship (Hubungan)**<br>\n",
        "==> Kebanyakan model deep learning, pada seluruh parameter yang didefinisikan di lapisan-lapisan jaringan akan mengalami **pembaruan** selama training, sehingga jumlah ***trainable parameters*** akan sama dengan jumlah ***keseluruhan parameter***. <br>\n",
        "4.) **Pengecualian terdapat Parameter yang Tidak Dilatih**<br>\n",
        "==> Dalam kasus khusus, mungkin terdapat parameter yang tidak dilatih (misalnya parameter-parameter yang dibekukan dalam *transfer learning*), maka jumlah ***trainable parameters*** dapat lebih kecil daripada total keseluruhan parameter. Namun, secara *default*, untuk model yang baru dilatih dari awal (scratch), semua parameter merupakan **trainable**, sehingga jumlah keduanya akan sama. <br>\n",
        "\n",
        "Dengan demikian, dalam situasi secara umum (general), seluruh parameter dapat dianggap sebagai **trainable**, yang menjelaskan mengapa ***trainable parameters*** akan sama dengan total ***keseluruhan parameter***."
      ]
    },
    {
      "cell_type": "markdown",
      "metadata": {
        "id": "IU8zMjOQZCFX"
      },
      "source": [
        "### Train the Model"
      ]
    },
    {
      "cell_type": "code",
      "execution_count": null,
      "metadata": {
        "id": "xqITlQXCZCFX",
        "outputId": "b296b7bf-e2ad-428e-db1c-d45d8493dfe0",
        "colab": {
          "base_uri": "https://localhost:8080/"
        }
      },
      "outputs": [
        {
          "output_type": "stream",
          "name": "stdout",
          "text": [
            "Start training ...\n",
            "  - Epoch: 0 \tTraining_loss: 0.000593\n",
            "  - Epoch: 10 \tTraining_loss: 0.000017\n",
            "  - Epoch: 20 \tTraining_loss: 0.000011\n",
            "  - Epoch: 30 \tTraining_loss: 0.000008\n",
            "  - Epoch: 40 \tTraining_loss: 0.000007\n"
          ]
        }
      ],
      "source": [
        "print(\"Start training ...\")\n",
        "for epoch in range(epochs):\n",
        "    train_loss = 0.0\n",
        "    model.train()\n",
        "\n",
        "    for data, label in Train_dataset:\n",
        "        data = data.to(device)\n",
        "        label = label.squeeze()\n",
        "        label = label.to(device)\n",
        "        optimizer.zero_grad()\n",
        "        output = model.forward(data.float())\n",
        "\n",
        "        loss = criterion(output.squeeze(), label.float())\n",
        "        loss.backward()\n",
        "        optimizer.step()\n",
        "        train_loss += loss.item()\n",
        "\n",
        "    train_loss = train_loss / len(Train_dataset.dataset)\n",
        "    if(epoch % 10 == 0):\n",
        "        print('  - Epoch: {} \\tTraining_loss: {:.6f}'.format(epoch, train_loss))"
      ]
    },
    {
      "cell_type": "markdown",
      "metadata": {
        "id": "CL3lJaDVZCFY"
      },
      "source": [
        "### Model ACCURACY should reach >= 95%"
      ]
    },
    {
      "cell_type": "code",
      "execution_count": null,
      "metadata": {
        "id": "ReIlo4acxGCR"
      },
      "outputs": [],
      "source": [
        "# TODO: Jika akurasi masih dibawah 95%, silakan lakukan fine-tuning"
      ]
    },
    {
      "cell_type": "code",
      "execution_count": null,
      "metadata": {
        "id": "IPQKtHsBZCFZ",
        "colab": {
          "base_uri": "https://localhost:8080/"
        },
        "outputId": "aa3acfea-5dd4-42ec-c9fc-c9cea5acf142"
      },
      "outputs": [
        {
          "output_type": "stream",
          "name": "stdout",
          "text": [
            "Model accuracy: 99.97%\n"
          ]
        }
      ],
      "source": [
        "correct_preds = 0\n",
        "total_samples = 0\n",
        "\n",
        "with torch.no_grad():\n",
        "    for data, labels in Test_dataset:\n",
        "        labels = labels.squeeze()\n",
        "        output = model.forward(data.float())\n",
        "        output = output.squeeze(1)\n",
        "\n",
        "        predictions = (output >= 0.5).float()\n",
        "        correct_preds += (predictions == labels).sum().item()\n",
        "        total_samples += labels.numel()\n",
        "\n",
        "accuracy = correct_preds / total_samples\n",
        "print(\"Model accuracy: {:.2f}%\".format(accuracy*100))"
      ]
    },
    {
      "cell_type": "markdown",
      "metadata": {
        "id": "Kd8Td1YsV23w"
      },
      "source": [
        "### Scoring\n",
        "Total `#TODO` = 12\n",
        "<br>Checklist:\n",
        "\n",
        "- [ ] Impor dataset dengan Pandas, gunakan fungsi \"read_by_CPU\"\n",
        "- [ ] Hilangkan kolom ID\n",
        "- [ ] Tentukan X (features) dan Y (target), gunakan \"data_gpu\"\n",
        "- [ ] Pecah dataset dengan komposisi 80% train set dan 20% test set, dengan fungsi \"splitCPU\"\n",
        "- [ ] Lakukan hal yang sama untuk data spliting, tetapi dengan fungsi \"splitGPU\"\n",
        "- [ ] Aktifkan GPU (CUDA) sebagai device untuk training\n",
        "- [ ] Tentukan nilai batch\n",
        "- [ ] PERTANYAAN: Apa perbedaan hyperparameters dan parameters?\n",
        "- [ ] Tentukan hyperparameters\n",
        "- [ ] Tentukan besaran input untuk model\n",
        "- [ ] PERTANYAAN: Mengapa total \"trainable parameters\" sama dengan total keseluruhan parameter?\n",
        "- [ ] Jika akurasi masih dibawah 95%, silakan lakukan fine-tuning"
      ]
    },
    {
      "cell_type": "markdown",
      "metadata": {
        "id": "nu54eCVrV23w"
      },
      "source": [
        "### Additional readings\n",
        "- N/A"
      ]
    },
    {
      "cell_type": "markdown",
      "metadata": {
        "id": "8lozabSPV23w"
      },
      "source": [
        "### Copyright © 2024 Startup Campus, Indonesia\n",
        "* Prepared by **Nicholas Dominic, M.Kom.** [(profile)](https://linkedin.com/in/nicholas-dominic)\n",
        "* You may **NOT** use this file except there is written permission from PT. Kampus Merdeka Belajar (Startup Campus).\n",
        "* Please address your questions to mentors."
      ]
    }
  ],
  "metadata": {
    "accelerator": "GPU",
    "colab": {
      "gpuType": "T4",
      "provenance": []
    },
    "kaggle": {
      "accelerator": "gpu",
      "dataSources": [
        {
          "datasetId": 3752264,
          "sourceId": 6492730,
          "sourceType": "datasetVersion"
        }
      ],
      "dockerImageVersionId": 30626,
      "isGpuEnabled": true,
      "isInternetEnabled": true,
      "language": "python",
      "sourceType": "notebook"
    },
    "kernelspec": {
      "display_name": "Python 3",
      "name": "python3"
    },
    "language_info": {
      "codemirror_mode": {
        "name": "ipython",
        "version": 3
      },
      "file_extension": ".py",
      "mimetype": "text/x-python",
      "name": "python",
      "nbconvert_exporter": "python",
      "pygments_lexer": "ipython3",
      "version": "3.11.9"
    }
  },
  "nbformat": 4,
  "nbformat_minor": 0
}